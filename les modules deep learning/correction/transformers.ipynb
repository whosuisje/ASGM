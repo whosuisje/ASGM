{
 "cells": [
  {
   "cell_type": "code",
   "execution_count": null,
   "metadata": {},
   "outputs": [],
   "source": []
  },
  {
   "cell_type": "code",
   "execution_count": 78,
   "metadata": {},
   "outputs": [],
   "source": [
    "# Importing Required Libraries\n",
    "import pandas as pd\n",
    "import tensorflow as tf\n",
    "from tensorflow.keras.layers import Input, Embedding, Dense, Dropout, Attention, LayerNormalization\n",
    "from tensorflow.keras.models import Model\n",
    "from sklearn.model_selection import train_test_split\n",
    "from tensorflow.keras.losses import SparseCategoricalCrossentropy\n",
    "from tensorflow.keras.metrics import SparseCategoricalAccuracy, AUC\n",
    "from nltk.translate.bleu_score import sentence_bleu\n",
    "from nltk.tokenize import word_tokenize\n",
    "from keras.preprocessing.text import Tokenizer\n",
    "import tensorflow as tf\n",
    "from tensorflow import keras\n",
    "from tensorflow.keras import layers\n",
    "from gensim.models import Word2Vec\n",
    "import numpy as np\n",
    "from keras.utils import to_categorical\n",
    "from tensorflow.keras import regularizers\n",
    "from keras.callbacks import EarlyStopping\n",
    "import json\n",
    "from keras.preprocessing.text import Tokenizer\n",
    "from tensorflow.keras.preprocessing.text import tokenizer_from_json\n",
    "\n",
    "\n",
    "\n",
    "\n"
   ]
  },
  {
   "cell_type": "markdown",
   "metadata": {},
   "source": [
    "Data Preprocessing\n",
    "We start by reading the data from an Excel file and handling Arabic text.\n",
    "Next, we drop rows with missing values in the 'stu_answer' column.\n",
    "We then combine 'stu_answer' and 'id_question' columns into a single column. We also get the 'grade' column."
   ]
  },
  {
   "cell_type": "code",
   "execution_count": 79,
   "metadata": {},
   "outputs": [],
   "source": [
    "excel_path = 'Data_all.xlsx'  # Replace with the actual path to your Excel file\n",
    "data = pd.read_excel(excel_path)\n",
    "data.dropna(subset=['stu_answer'], inplace=True)\n",
    "answers = [str(answer) for answer in data['stu_answer'].values]\n",
    "grades= data['grade'].values\n"
   ]
  },
  {
   "cell_type": "markdown",
   "metadata": {},
   "source": [
    "\n",
    "# Tokenization\n",
    "\n",
    "We tokenize the answers using the Keras Tokenizer.\n"
   ]
  },
  {
   "cell_type": "code",
   "execution_count": 80,
   "metadata": {},
   "outputs": [],
   "source": [
    "from nltk.stem import PorterStemmer\n",
    "from nltk.tokenize import word_tokenize\n",
    "\n",
    "ps = PorterStemmer()\n",
    "\n",
    "# Assuming `answers` is a list of sentences\n",
    "stemmed_answers = []\n",
    "for sentence in answers:\n",
    "    words = word_tokenize(sentence)\n",
    "    stemmed_words = [ps.stem(w) for w in words]\n",
    "    stemmed_sentence = ' '.join(stemmed_words)\n",
    "    stemmed_answers.append(stemmed_sentence)\n",
    "\n",
    "tokenizer = Tokenizer(filters='''!\"#$%&()*+,-./:;<=>?@[\\\\]^_`{|}~\\t\\n`÷×؛<>_()*&^%][ـ،/:\"؟.,'{}~¦+|!”…“–ـ''''')\n",
    "tokenizer.fit_on_texts(answers)\n",
    "\n",
    "# Save the tokenizer\n",
    "tokenizer_json = tokenizer.to_json()\n",
    "with open('tokenizer.json', 'w', encoding='utf-8') as f:\n",
    "    f.write(json.dumps(tokenizer_json, ensure_ascii=False))\n"
   ]
  },
  {
   "cell_type": "markdown",
   "metadata": {},
   "source": [
    "# Vocabulary Size\n",
    "\n",
    "We first calculate the vocabulary size, which is the total number of unique words in our data plus one.\n",
    "\n",
    "# Converting Text to Sequences\n",
    "\n",
    "We convert the answers to sequences of tokens using the tokenizer we previously fitted on our answers.\n",
    "\n",
    "# Padding Sequences\n",
    "\n",
    "To ensure that all sequences have the same length, we pad them using TensorFlow's `pad_sequences` function. We use 'post' padding which means that zeros are added at the end of the sequences.\n",
    "\n",
    "We then print the shape of the padded sequences to verify the operation.\n",
    "\n",
    "# Splitting the Data\n",
    "\n",
    "We split our data into training and testing sets using the `train_test_split` function from `sklearn.model_selection`. We use a test size of 20%, meaning that 20% of our data will be used for testing and the rest for training. We also set a random state for reproducibility.\n",
    "\n",
    "Finally, we print the shapes of our training and testing sets to verify the split.\n"
   ]
  },
  {
   "cell_type": "code",
   "execution_count": 81,
   "metadata": {},
   "outputs": [
    {
     "name": "stdout",
     "output_type": "stream",
     "text": [
      "(1412, 49)\n",
      "(1129, 49) (1129, 3) (283, 49) (283, 3)\n"
     ]
    }
   ],
   "source": [
    "vocab_size = len(tokenizer.word_index) + 1\n",
    "\n",
    "# Convert the answers to sequences of tokens\n",
    "sequences = tokenizer.texts_to_sequences(answers)\n",
    "\n",
    "# Pad the sequences to have the same length\n",
    "padded_sequences = tf.keras.preprocessing.sequence.pad_sequences(sequences, padding='post')\n",
    "\n",
    "# Print the shape of the padded sequences\n",
    "print(padded_sequences.shape)\n",
    "grades = to_categorical(grades, num_classes=3)\n",
    "# Split the data into training and testing sets\n",
    "X_train, X_test, y_train, y_test = train_test_split(padded_sequences, grades, test_size=0.2, random_state=42)\n",
    "\n",
    "\n",
    "# Print the shapes of the training and testing sets\n",
    "print(X_train.shape, y_train.shape, X_test.shape, y_test.shape)\n"
   ]
  },
  {
   "cell_type": "markdown",
   "metadata": {},
   "source": [
    "In this code snippet, we define a class called `TransformerBlock` that inherits from the `layers.Layer` class. This class represents a transformer block, which is a fundamental building block in transformer-based models.\n",
    "\n",
    "The `TransformerBlock` class has an `__init__` method that initializes the attributes of the class. It takes four parameters: `embed_dim`, `num_heads`, `ff_dim`, and `rate`. These parameters determine the dimensions and properties of the transformer block.\n",
    "\n",
    "Inside the `__init__` method, we define the following attributes:\n",
    "- `att`: An instance of the `layers.MultiHeadAttention` class, which represents the multi-head attention mechanism in the transformer block.\n",
    "- `ffn`: A sequential model consisting of two dense layers with ReLU activation. This represents the feed-forward network inside the transformer block.\n",
    "- `layernorm1` and `layernorm2`: Layer normalization layers that normalize the inputs and outputs of the transformer block.\n",
    "- `dropout1` and `dropout2`: Dropout layers that apply dropout regularization to the outputs of the attention and feed-forward layers, respectively.\n",
    "\n",
    "The `call` method of the `TransformerBlock` class takes two parameters: `inputs` and `training`. It performs the forward pass of the transformer block. Here's a step-by-step breakdown of what the `call` method does:\n",
    "1. It applies the multi-head attention mechanism to the inputs, producing an attention output.\n",
    "2. It applies dropout regularization to the attention output.\n",
    "3. It adds the inputs to the attention output and normalizes the result using layer normalization.\n",
    "4. It passes the normalized output through the feed-forward network.\n",
    "5. It applies dropout regularization to the feed-forward output.\n",
    "6. It adds the normalized output of the attention layer to the feed-forward output and normalizes the result using layer normalization.\n",
    "7. It returns the final output of the transformer block.\n",
    "\n",
    "Overall, the `TransformerBlock` class encapsulates the operations performed in a single transformer block, making it easier to build and customize transformer-based models.\n"
   ]
  },
  {
   "cell_type": "code",
   "execution_count": 82,
   "metadata": {},
   "outputs": [],
   "source": [
    "\n",
    "@keras.utils.register_keras_serializable()\n",
    "class TransformerBlock(layers.Layer):\n",
    "    def __init__(self, embed_dim, num_heads, ff_dim, rate=0.25):\n",
    "        super().__init__()\n",
    "        self.att = layers.MultiHeadAttention(num_heads=num_heads, key_dim=embed_dim)\n",
    "        self.ffn = keras.Sequential([\n",
    "            layers.Dense(ff_dim, activation=\"relu\"),\n",
    "            layers.Dense(embed_dim),\n",
    "        ])\n",
    "        self.layernorm1 = layers.LayerNormalization(epsilon=1e-6)\n",
    "        self.layernorm2 = layers.LayerNormalization(epsilon=1e-6)\n",
    "        self.dropout1 = layers.Dropout(rate)\n",
    "        self.dropout2 = layers.Dropout(rate)\n",
    "\n",
    "    def call(self, inputs, training):\n",
    "        attn_output = self.att(inputs, inputs)\n",
    "        attn_output = self.dropout1(attn_output, training=training)\n",
    "        out1 = self.layernorm1(inputs + attn_output)\n",
    "        ffn_output = self.ffn(out1)\n",
    "        ffn_output = self.dropout2(ffn_output, training=training)\n",
    "        return self.layernorm2(out1 + ffn_output)\n"
   ]
  },
  {
   "cell_type": "markdown",
   "metadata": {},
   "source": [
    "# Token and Position Embedding Class\n",
    "\n",
    "This class is used to create embeddings for the tokens and their positions in the input sequences.\n",
    "\n",
    "In the constructor, we initialize two embedding layers:\n",
    "- `token_emb`: This layer will convert the input tokens (words) into dense vectors of fixed size (`embed_dim`). The input dimension is the size of the vocabulary (`vocab_size`).\n",
    "- `pos_emb`: This layer will convert the positions of the tokens in the input sequence into dense vectors of fixed size (`embed_dim`). The input dimension is the maximum length of the input sequences (`maxlen`).\n",
    "\n",
    "\n",
    "In the `call` method, we first get the length of the input sequences (`maxlen`). We then create a tensor of positions, which is just a sequence of integers from 0 to `maxlen`. We pass this tensor through the `pos_emb` layer to get the position embeddings. We also pass the input sequences through the `token_emb` layer to get the token embeddings. Finally, we add the token embeddings and the position embeddings together and return the result.\n",
    "```\n"
   ]
  },
  {
   "cell_type": "code",
   "execution_count": 83,
   "metadata": {},
   "outputs": [],
   "source": [
    "@keras.saving.register_keras_serializable()\n",
    "class TokenAndPositionEmbedding(layers.Layer):\n",
    "    def __init__(self, maxlen, vocab_size, embed_dim):\n",
    "        super().__init__()\n",
    "        self.token_emb = layers.Embedding(input_dim=vocab_size, output_dim=embed_dim)\n",
    "        self.pos_emb = layers.Embedding(input_dim=maxlen, output_dim=embed_dim)\n",
    "\n",
    "    def call(self, x):\n",
    "        maxlen = tf.shape(x)[-1]\n",
    "        positions = tf.range(start=0, limit=maxlen, delta=1)\n",
    "        positions = self.pos_emb(positions)\n",
    "        x = self.token_emb(x)\n",
    "        return x + positions\n"
   ]
  },
  {
   "cell_type": "markdown",
   "metadata": {},
   "source": [
    "#here we have our hyper parameter "
   ]
  },
  {
   "cell_type": "code",
   "execution_count": 84,
   "metadata": {},
   "outputs": [],
   "source": [
    "\n",
    "# Set the hyperparameters\n",
    "embed_dim = 300  # Embedding size for each token\n",
    "num_heads = 2  # Number of attention heads\n",
    "ff_dim = 32  # Hidden layer size in feed forward network inside transformer\n",
    "maxlen = padded_sequences.shape[1]\n"
   ]
  },
  {
   "cell_type": "markdown",
   "metadata": {},
   "source": [
    "This code defines a machine learning model using a transformer architecture for text classification.\n",
    "The model takes a sequence of inputs and performs the following steps:\n",
    "1. Embedding: The inputs are passed through an embedding layer to convert them into dense vectors.\n",
    "2. Transformer Block: The embedded inputs are then processed by a transformer block, which consists of multi-head self-attention and feed-forward layers.\n",
    "3. Global Average Pooling: The output of the transformer block is globally averaged along the time dimension.\n",
    "4. Dense Layer: The averaged output is passed through a dense layer with ReLU activation and L2 regularization.\n",
    "5. Dropout: A dropout layer is applied to prevent overfitting.\n",
    "6. Output Layer: The output of the dropout layer is passed through a dense layer with softmax activation and L2 regularization to obtain the final classification probabilities.\n",
    "7. Model Compilation: The model is compiled with the Adam optimizer, categorical cross-entropy loss, and additional metrics such as accuracy, precision, and recall.\n",
    "8. Training: The model is trained on the training data with early stopping based on validation loss.\n",
    "9. Model Saving: The trained model is saved as 'my_model.h5'."
   ]
  },
  {
   "cell_type": "code",
   "execution_count": 85,
   "metadata": {},
   "outputs": [
    {
     "name": "stdout",
     "output_type": "stream",
     "text": [
      "Epoch 1/100\n",
      "18/18 [==============================] - 8s 278ms/step - loss: 1.4290 - accuracy: 0.6182 - precision_7: 0.6287 - recall_7: 0.5908 - val_loss: 1.1555 - val_accuracy: 0.6926 - val_precision_7: 0.7025 - val_recall_7: 0.6926\n",
      "Epoch 2/100\n",
      "18/18 [==============================] - 5s 282ms/step - loss: 1.1175 - accuracy: 0.6962 - precision_7: 0.7031 - recall_7: 0.6670 - val_loss: 1.1125 - val_accuracy: 0.6926 - val_precision_7: 0.6950 - val_recall_7: 0.6926\n",
      "Epoch 3/100\n",
      "18/18 [==============================] - 5s 267ms/step - loss: 1.0592 - accuracy: 0.6962 - precision_7: 0.7093 - recall_7: 0.6873 - val_loss: 1.0390 - val_accuracy: 0.6926 - val_precision_7: 0.7127 - val_recall_7: 0.6926\n",
      "Epoch 4/100\n",
      "18/18 [==============================] - 5s 284ms/step - loss: 1.0068 - accuracy: 0.7121 - precision_7: 0.7257 - recall_7: 0.7006 - val_loss: 0.9834 - val_accuracy: 0.7279 - val_precision_7: 0.7302 - val_recall_7: 0.7173\n",
      "Epoch 5/100\n",
      "18/18 [==============================] - 5s 266ms/step - loss: 0.9093 - accuracy: 0.7440 - precision_7: 0.7664 - recall_7: 0.7148 - val_loss: 0.8708 - val_accuracy: 0.7915 - val_precision_7: 0.8022 - val_recall_7: 0.7880\n",
      "Epoch 6/100\n",
      "18/18 [==============================] - 5s 252ms/step - loss: 0.7014 - accuracy: 0.8609 - precision_7: 0.8912 - recall_7: 0.7981 - val_loss: 0.7622 - val_accuracy: 0.8587 - val_precision_7: 0.8704 - val_recall_7: 0.8304\n",
      "Epoch 7/100\n",
      "18/18 [==============================] - 4s 241ms/step - loss: 0.5097 - accuracy: 0.9017 - precision_7: 0.9260 - recall_7: 0.8866 - val_loss: 0.7027 - val_accuracy: 0.8445 - val_precision_7: 0.8722 - val_recall_7: 0.8198\n",
      "Epoch 8/100\n",
      "18/18 [==============================] - 5s 253ms/step - loss: 0.4223 - accuracy: 0.9194 - precision_7: 0.9420 - recall_7: 0.9070 - val_loss: 0.8415 - val_accuracy: 0.8339 - val_precision_7: 0.8470 - val_recall_7: 0.8021\n",
      "Epoch 9/100\n",
      "18/18 [==============================] - 5s 254ms/step - loss: 0.3791 - accuracy: 0.9238 - precision_7: 0.9464 - recall_7: 0.9070 - val_loss: 0.8386 - val_accuracy: 0.8269 - val_precision_7: 0.8619 - val_recall_7: 0.8163\n",
      "Epoch 10/100\n",
      "18/18 [==============================] - 4s 246ms/step - loss: 0.3468 - accuracy: 0.9274 - precision_7: 0.9572 - recall_7: 0.9105 - val_loss: 0.7947 - val_accuracy: 0.8445 - val_precision_7: 0.8682 - val_recall_7: 0.7915\n"
     ]
    }
   ],
   "source": [
    "\n",
    "\n",
    "\n",
    "# Define the inputs\n",
    "inputs = layers.Input(shape=(maxlen,))\n",
    "\n",
    "# Create the embedding layer\n",
    "embedding_layer = TokenAndPositionEmbedding(maxlen, vocab_size, embed_dim)\n",
    "x = embedding_layer(inputs)\n",
    "\n",
    "# Create the transformer block\n",
    "transformer_block = TransformerBlock(embed_dim, num_heads, ff_dim)\n",
    "x = transformer_block(x)\n",
    "\n",
    "# Perform global average pooling\n",
    "x = layers.GlobalAveragePooling1D()(x)\n",
    "\n",
    "# Add a dense layer with ReLU activation and L2 regularization\n",
    "x = layers.Dense(20, activation=\"relu\", kernel_regularizer=regularizers.l2(0.01))(x)\n",
    "\n",
    "# Add a dropout layer\n",
    "x = layers.Dropout(0.1)(x)\n",
    "\n",
    "# Add the output layer with softmax activation and L2 regularization\n",
    "outputs = layers.Dense(3, activation=\"softmax\", kernel_regularizer=regularizers.l2(0.01))(x)\n",
    "\n",
    "# Create the model\n",
    "model = keras.Model(inputs=inputs, outputs=outputs)\n",
    "\n",
    "# Convert labels to one-hot vectors\n",
    "\n",
    "# Compile the model\n",
    "model.compile(optimizer=\"adam\", loss=\"categorical_crossentropy\", metrics=['accuracy', tf.keras.metrics.Precision(), tf.keras.metrics.Recall()])\n",
    "\n",
    "# Define the early stopping callback\n",
    "early_stopping = EarlyStopping(monitor='val_loss', patience=3)\n",
    "\n",
    "# Train the model with the early stopping callback\n",
    "history = model.fit(X_train, y_train, batch_size=64, epochs=100, validation_data=(X_test, y_test), callbacks=[early_stopping])\n",
    "\n",
    "# Save the model\n",
    "model.save('my_model.keras')\n",
    "\n",
    "# Preprocess the input text\n",
    "\n",
    "\n"
   ]
  },
  {
   "cell_type": "code",
   "execution_count": 86,
   "metadata": {},
   "outputs": [
    {
     "name": "stdout",
     "output_type": "stream",
     "text": [
      "9/9 [==============================] - 0s 34ms/step - loss: 0.7947 - accuracy: 0.8445 - precision_7: 0.8682 - recall_7: 0.7915\n",
      "Accuracy: 0.8445229530334473\n",
      "Precision: 0.8682170510292053\n",
      "Recall: 0.7915194630622864\n",
      "F1 Score: 0.8280961323892116\n",
      "Model: \"model_7\"\n",
      "_________________________________________________________________\n",
      " Layer (type)                Output Shape              Param #   \n",
      "=================================================================\n",
      " input_8 (InputLayer)        [(None, 49)]              0         \n",
      "                                                                 \n",
      " token_and_position_embeddi  (None, 49, 300)           379200    \n",
      " ng_14 (TokenAndPositionEmb                                      \n",
      " edding)                                                         \n",
      "                                                                 \n",
      " transformer_block_13 (Tran  (None, 49, 300)           742832    \n",
      " sformerBlock)                                                   \n",
      "                                                                 \n",
      " global_average_pooling1d_7  (None, 300)               0         \n",
      "  (GlobalAveragePooling1D)                                       \n",
      "                                                                 \n",
      " dense_42 (Dense)            (None, 20)                6020      \n",
      "                                                                 \n",
      " dropout_35 (Dropout)        (None, 20)                0         \n",
      "                                                                 \n",
      " dense_43 (Dense)            (None, 3)                 63        \n",
      "                                                                 \n",
      "=================================================================\n",
      "Total params: 1128115 (4.30 MB)\n",
      "Trainable params: 1128115 (4.30 MB)\n",
      "Non-trainable params: 0 (0.00 Byte)\n",
      "_________________________________________________________________\n",
      "None\n"
     ]
    },
    {
     "data": {
      "image/png": "[encoded data removed]",
      "text/plain": [
       "<Figure size 1400x600 with 2 Axes>"
      ]
     },
     "metadata": {},
     "output_type": "display_data"
    }
   ],
   "source": [
    "import matplotlib.pyplot as plt\n",
    "import tensorflow as tf\n",
    "\n",
    "loss, accuracy, precision, recall = model.evaluate(X_test, y_test)\n",
    "print(f'Accuracy: {accuracy}')\n",
    "print(f'Precision: {precision}')\n",
    "print(f'Recall: {recall}')\n",
    "f1_score = 2 * (precision * recall) / (precision + recall)\n",
    "print(f'F1 Score: {f1_score}')\n",
    "\n",
    "print(model.summary())\n",
    "import matplotlib.pyplot as plt\n",
    "\n",
    "# Plot training & validation accuracy values\n",
    "plt.figure(figsize=(14, 6))\n",
    "plt.subplot(1, 2, 1)\n",
    "plt.plot(history.history['accuracy'])\n",
    "plt.plot(history.history['val_accuracy'])\n",
    "plt.title('Model accuracy')\n",
    "plt.ylabel('Accuracy')\n",
    "plt.xlabel('Epoch')\n",
    "plt.legend(['Train', 'Test'], loc='upper left')\n",
    "\n",
    "# Plot training & validation loss values\n",
    "plt.subplot(1, 2, 2)\n",
    "plt.plot(history.history['loss'])\n",
    "plt.plot(history.history['val_loss'])\n",
    "plt.title('Model loss')\n",
    "plt.ylabel('Loss')\n",
    "plt.xlabel('Epoch')\n",
    "plt.legend(['Train', 'Test'], loc='upper left')\n",
    "\n",
    "plt.show()"
   ]
  },
  {
   "cell_type": "code",
   "execution_count": 87,
   "metadata": {},
   "outputs": [
    {
     "name": "stdout",
     "output_type": "stream",
     "text": [
      "36/36 [==============================] - 1s 35ms/step - loss: 0.3327 - accuracy: 0.9221 - precision_7: 0.9602 - recall_7: 0.8981\n",
      "Training Loss: 0.332655%\n",
      "Training Accuracy: 92.21%\n",
      "Training Precision: 96.02%\n",
      "Training Recall: 89.81%\n"
     ]
    }
   ],
   "source": [
    "scores_trainig = model.evaluate(X_train, y_train, verbose=1)\n",
    "print(\"Training Loss: %f%%\" % (scores_trainig[0]))\n",
    "print(\"Training Accuracy: %.2f%%\" % (scores_trainig[1]*100))\n",
    "print(\"Training Precision: %.2f%%\" % (scores_trainig[2]*100))\n",
    "print(\"Training Recall: %.2f%%\" % (scores_trainig[3]*100))\n"
   ]
  },
  {
   "cell_type": "code",
   "execution_count": null,
   "metadata": {},
   "outputs": [],
   "source": [
    "\n",
    "\n"
   ]
  },
  {
   "cell_type": "code",
   "execution_count": 88,
   "metadata": {},
   "outputs": [
    {
     "name": "stdout",
     "output_type": "stream",
     "text": [
      "1/1 [==============================] - 0s 194ms/step\n",
      "0\n"
     ]
    }
   ],
   "source": [
    "with open('tokenizer.json') as f:\n",
    "    data = json.load(f)\n",
    "    tokenizer = tokenizer_from_json(data)\n",
    "model = keras.models.load_model('my_model.keras', custom_objects={'TokenAndPositionEmbedding': TokenAndPositionEmbedding})\n",
    "input_text = \"محمد\"\n",
    "input_sequence = tokenizer.texts_to_sequences([input_text])\n",
    "padded_input_sequence = tf.keras.preprocessing.sequence.pad_sequences(input_sequence, maxlen=maxlen, padding='post')\n",
    "\n",
    "# Make the prediction\n",
    "prediction = model.predict(padded_input_sequence)\n",
    "\n",
    "# Get the predicted class\n",
    "predicted_class = np.argmax(prediction)\n",
    "\n",
    "# Print the predicted class\n",
    "print(predicted_class)\n"
   ]
  }
 ],
 "metadata": {
  "kernelspec": {
   "display_name": "Python 3",
   "language": "python",
   "name": "python3"
  },
  "language_info": {
   "codemirror_mode": {
    "name": "ipython",
    "version": 3
   },
   "file_extension": ".py",
   "mimetype": "text/x-python",
   "name": "python",
   "nbconvert_exporter": "python",
   "pygments_lexer": "ipython3",
   "version": "3.9.7"
  }
 },
 "nbformat": 4,
 "nbformat_minor": 2
}
